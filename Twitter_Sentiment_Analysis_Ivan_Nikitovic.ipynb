{
  "cells": [
    {
      "cell_type": "code",
      "execution_count": null,
      "metadata": {
        "collapsed": true,
        "id": "_pKOEvOiGuvk",
        "outputId": "34b69389-ecba-4627-c8f9-3441d591a64a"
      },
      "outputs": [
        {
          "name": "stdout",
          "output_type": "stream",
          "text": [
            "Defaulting to user installation because normal site-packages is not writeable\n",
            "Collecting transformers\n",
            "  Downloading transformers-4.25.1-py3-none-any.whl (5.8 MB)\n",
            "\u001b[2K     \u001b[90m━━━━━━━━━━━━━━━━━━━━━━━━━━━━━━━━━━━━━━━━\u001b[0m \u001b[32m5.8/5.8 MB\u001b[0m \u001b[31m73.7 MB/s\u001b[0m eta \u001b[36m0:00:00\u001b[0ma \u001b[36m0:00:01\u001b[0m\n",
            "\u001b[?25hRequirement already satisfied: filelock in /share/pkg.7/python3/3.10.5/install/lib/python3.10/site-packages (from transformers) (3.7.1)\n",
            "Requirement already satisfied: pyyaml>=5.1 in /share/pkg.7/python3/3.10.5/install/lib/python3.10/site-packages (from transformers) (6.0)\n",
            "Requirement already satisfied: packaging>=20.0 in /share/pkg.7/python3/3.10.5/install/lib/python3.10/site-packages (from transformers) (21.3)\n",
            "Collecting tokenizers!=0.11.3,<0.14,>=0.11.1\n",
            "  Downloading tokenizers-0.13.2-cp310-cp310-manylinux_2_17_x86_64.manylinux2014_x86_64.whl (7.6 MB)\n",
            "\u001b[2K     \u001b[90m━━━━━━━━━━━━━━━━━━━━━━━━━━━━━━━━━━━━━━━━\u001b[0m \u001b[32m7.6/7.6 MB\u001b[0m \u001b[31m136.7 MB/s\u001b[0m eta \u001b[36m0:00:00\u001b[0ma \u001b[36m0:00:01\u001b[0m\n",
            "\u001b[?25hRequirement already satisfied: numpy>=1.17 in /share/pkg.7/python3/3.10.5/install/lib/python3.10/site-packages (from transformers) (1.22.4)\n",
            "Requirement already satisfied: tqdm>=4.27 in /share/pkg.7/python3/3.10.5/install/lib/python3.10/site-packages (from transformers) (4.64.0)\n",
            "Collecting huggingface-hub<1.0,>=0.10.0\n",
            "  Downloading huggingface_hub-0.11.1-py3-none-any.whl (182 kB)\n",
            "\u001b[2K     \u001b[90m━━━━━━━━━━━━━━━━━━━━━━━━━━━━━━━━━━━━━\u001b[0m \u001b[32m182.4/182.4 kB\u001b[0m \u001b[31m428.3 MB/s\u001b[0m eta \u001b[36m0:00:00\u001b[0m\n",
            "\u001b[?25hRequirement already satisfied: requests in /share/pkg.7/python3/3.10.5/install/lib/python3.10/site-packages (from transformers) (2.28.0)\n",
            "Requirement already satisfied: regex!=2019.12.17 in /share/pkg.7/python3/3.10.5/install/lib/python3.10/site-packages (from transformers) (2022.6.2)\n",
            "Requirement already satisfied: typing-extensions>=3.7.4.3 in /share/pkg.7/python3/3.10.5/install/lib/python3.10/site-packages (from huggingface-hub<1.0,>=0.10.0->transformers) (4.2.0)\n",
            "Requirement already satisfied: pyparsing!=3.0.5,>=2.0.2 in /share/pkg.7/python3/3.10.5/install/lib/python3.10/site-packages (from packaging>=20.0->transformers) (3.0.9)\n",
            "Requirement already satisfied: charset-normalizer~=2.0.0 in /share/pkg.7/python3/3.10.5/install/lib/python3.10/site-packages (from requests->transformers) (2.0.12)\n",
            "Requirement already satisfied: idna<4,>=2.5 in /share/pkg.7/python3/3.10.5/install/lib/python3.10/site-packages (from requests->transformers) (3.3)\n",
            "Requirement already satisfied: urllib3<1.27,>=1.21.1 in /share/pkg.7/python3/3.10.5/install/lib/python3.10/site-packages (from requests->transformers) (1.26.9)\n",
            "Requirement already satisfied: certifi>=2017.4.17 in /share/pkg.7/python3/3.10.5/install/lib/python3.10/site-packages (from requests->transformers) (2022.6.15)\n",
            "Installing collected packages: tokenizers, huggingface-hub, transformers\n",
            "\u001b[33m  WARNING: The script huggingface-cli is installed in '/usr4/cs505ws/in/.local/bin' which is not on PATH.\n",
            "  Consider adding this directory to PATH or, if you prefer to suppress this warning, use --no-warn-script-location.\u001b[0m\u001b[33m\n",
            "\u001b[0m\u001b[33m  WARNING: The script transformers-cli is installed in '/usr4/cs505ws/in/.local/bin' which is not on PATH.\n",
            "  Consider adding this directory to PATH or, if you prefer to suppress this warning, use --no-warn-script-location.\u001b[0m\u001b[33m\n",
            "\u001b[0mSuccessfully installed huggingface-hub-0.11.1 tokenizers-0.13.2 transformers-4.25.1\n",
            "\n",
            "\u001b[1m[\u001b[0m\u001b[34;49mnotice\u001b[0m\u001b[1;39;49m]\u001b[0m\u001b[39;49m A new release of pip available: \u001b[0m\u001b[31;49m22.1.2\u001b[0m\u001b[39;49m -> \u001b[0m\u001b[32;49m22.3.1\u001b[0m\n",
            "\u001b[1m[\u001b[0m\u001b[34;49mnotice\u001b[0m\u001b[1;39;49m]\u001b[0m\u001b[39;49m To update, run: \u001b[0m\u001b[32;49mpip install --upgrade pip\u001b[0m\n",
            "Defaulting to user installation because normal site-packages is not writeable\n",
            "Collecting evaluate\n",
            "  Downloading evaluate-0.3.0-py3-none-any.whl (72 kB)\n",
            "\u001b[2K     \u001b[90m━━━━━━━━━━━━━━━━━━━━━━━━━━━━━━━━━━━━━━━━\u001b[0m \u001b[32m72.9/72.9 kB\u001b[0m \u001b[31m7.7 MB/s\u001b[0m eta \u001b[36m0:00:00\u001b[0m\n",
            "\u001b[?25hCollecting responses<0.19\n",
            "  Downloading responses-0.18.0-py3-none-any.whl (38 kB)\n",
            "Requirement already satisfied: pandas in /share/pkg.7/python3/3.10.5/install/lib/python3.10/site-packages (from evaluate) (1.4.3)\n",
            "Requirement already satisfied: multiprocess in /share/pkg.7/python3/3.10.5/install/lib/python3.10/site-packages (from evaluate) (0.70.13)\n",
            "Requirement already satisfied: tqdm>=4.62.1 in /share/pkg.7/python3/3.10.5/install/lib/python3.10/site-packages (from evaluate) (4.64.0)\n",
            "Requirement already satisfied: fsspec[http]>=2021.05.0 in /share/pkg.7/python3/3.10.5/install/lib/python3.10/site-packages (from evaluate) (2022.5.0)\n",
            "Requirement already satisfied: numpy>=1.17 in /share/pkg.7/python3/3.10.5/install/lib/python3.10/site-packages (from evaluate) (1.22.4)\n",
            "Collecting datasets>=2.0.0\n",
            "  Downloading datasets-2.7.1-py3-none-any.whl (451 kB)\n",
            "\u001b[2K     \u001b[90m━━━━━━━━━━━━━━━━━━━━━━━━━━━━━━━━━━━━━━\u001b[0m \u001b[32m451.7/451.7 kB\u001b[0m \u001b[31m23.4 MB/s\u001b[0m eta \u001b[36m0:00:00\u001b[0m\n",
            "\u001b[?25hRequirement already satisfied: dill in /share/pkg.7/python3/3.10.5/install/lib/python3.10/site-packages (from evaluate) (0.3.5.1)\n",
            "Requirement already satisfied: requests>=2.19.0 in /share/pkg.7/python3/3.10.5/install/lib/python3.10/site-packages (from evaluate) (2.28.0)\n",
            "Collecting xxhash\n",
            "  Downloading xxhash-3.1.0-cp310-cp310-manylinux_2_17_x86_64.manylinux2014_x86_64.whl (212 kB)\n",
            "\u001b[2K     \u001b[90m━━━━━━━━━━━━━━━━━━━━━━━━━━━━━━━━━━━━━\u001b[0m \u001b[32m212.4/212.4 kB\u001b[0m \u001b[31m431.4 MB/s\u001b[0m eta \u001b[36m0:00:00\u001b[0m\n",
            "\u001b[?25hRequirement already satisfied: packaging in /share/pkg.7/python3/3.10.5/install/lib/python3.10/site-packages (from evaluate) (21.3)\n",
            "Requirement already satisfied: huggingface-hub>=0.7.0 in /usr4/cs505ws/in/.local/lib/python3.10/site-packages (from evaluate) (0.11.1)\n",
            "Requirement already satisfied: pyarrow>=6.0.0 in /share/pkg.7/python3/3.10.5/install/lib/python3.10/site-packages (from datasets>=2.0.0->evaluate) (8.0.0)\n",
            "Requirement already satisfied: aiohttp in /share/pkg.7/python3/3.10.5/install/lib/python3.10/site-packages (from datasets>=2.0.0->evaluate) (3.8.1)\n",
            "Requirement already satisfied: pyyaml>=5.1 in /share/pkg.7/python3/3.10.5/install/lib/python3.10/site-packages (from datasets>=2.0.0->evaluate) (6.0)\n",
            "Requirement already satisfied: filelock in /share/pkg.7/python3/3.10.5/install/lib/python3.10/site-packages (from huggingface-hub>=0.7.0->evaluate) (3.7.1)\n",
            "Requirement already satisfied: typing-extensions>=3.7.4.3 in /share/pkg.7/python3/3.10.5/install/lib/python3.10/site-packages (from huggingface-hub>=0.7.0->evaluate) (4.2.0)\n",
            "Requirement already satisfied: pyparsing!=3.0.5,>=2.0.2 in /share/pkg.7/python3/3.10.5/install/lib/python3.10/site-packages (from packaging->evaluate) (3.0.9)\n",
            "Requirement already satisfied: charset-normalizer~=2.0.0 in /share/pkg.7/python3/3.10.5/install/lib/python3.10/site-packages (from requests>=2.19.0->evaluate) (2.0.12)\n",
            "Requirement already satisfied: urllib3<1.27,>=1.21.1 in /share/pkg.7/python3/3.10.5/install/lib/python3.10/site-packages (from requests>=2.19.0->evaluate) (1.26.9)\n",
            "Requirement already satisfied: certifi>=2017.4.17 in /share/pkg.7/python3/3.10.5/install/lib/python3.10/site-packages (from requests>=2.19.0->evaluate) (2022.6.15)\n",
            "Requirement already satisfied: idna<4,>=2.5 in /share/pkg.7/python3/3.10.5/install/lib/python3.10/site-packages (from requests>=2.19.0->evaluate) (3.3)\n",
            "Requirement already satisfied: python-dateutil>=2.8.1 in /share/pkg.7/python3/3.10.5/install/lib/python3.10/site-packages (from pandas->evaluate) (2.8.2)\n",
            "Requirement already satisfied: pytz>=2020.1 in /share/pkg.7/python3/3.10.5/install/lib/python3.10/site-packages (from pandas->evaluate) (2022.1)\n",
            "Requirement already satisfied: six>=1.5 in /share/pkg.7/python3/3.10.5/install/lib/python3.10/site-packages (from python-dateutil>=2.8.1->pandas->evaluate) (1.16.0)\n",
            "Requirement already satisfied: yarl<2.0,>=1.0 in /share/pkg.7/python3/3.10.5/install/lib/python3.10/site-packages (from aiohttp->datasets>=2.0.0->evaluate) (1.7.2)\n",
            "Requirement already satisfied: async-timeout<5.0,>=4.0.0a3 in /share/pkg.7/python3/3.10.5/install/lib/python3.10/site-packages (from aiohttp->datasets>=2.0.0->evaluate) (4.0.2)\n",
            "Requirement already satisfied: attrs>=17.3.0 in /share/pkg.7/python3/3.10.5/install/lib/python3.10/site-packages (from aiohttp->datasets>=2.0.0->evaluate) (21.4.0)\n",
            "Requirement already satisfied: frozenlist>=1.1.1 in /share/pkg.7/python3/3.10.5/install/lib/python3.10/site-packages (from aiohttp->datasets>=2.0.0->evaluate) (1.3.0)\n",
            "Requirement already satisfied: multidict<7.0,>=4.5 in /share/pkg.7/python3/3.10.5/install/lib/python3.10/site-packages (from aiohttp->datasets>=2.0.0->evaluate) (6.0.2)\n",
            "Requirement already satisfied: aiosignal>=1.1.2 in /share/pkg.7/python3/3.10.5/install/lib/python3.10/site-packages (from aiohttp->datasets>=2.0.0->evaluate) (1.2.0)\n"
          ]
        },
        {
          "name": "stdout",
          "output_type": "stream",
          "text": [
            "Installing collected packages: xxhash, responses, datasets, evaluate\n",
            "\u001b[33m  WARNING: The script datasets-cli is installed in '/usr4/cs505ws/in/.local/bin' which is not on PATH.\n",
            "  Consider adding this directory to PATH or, if you prefer to suppress this warning, use --no-warn-script-location.\u001b[0m\u001b[33m\n",
            "\u001b[0m\u001b[33m  WARNING: The script evaluate-cli is installed in '/usr4/cs505ws/in/.local/bin' which is not on PATH.\n",
            "  Consider adding this directory to PATH or, if you prefer to suppress this warning, use --no-warn-script-location.\u001b[0m\u001b[33m\n",
            "\u001b[0mSuccessfully installed datasets-2.7.1 evaluate-0.3.0 responses-0.18.0 xxhash-3.1.0\n",
            "\n",
            "\u001b[1m[\u001b[0m\u001b[34;49mnotice\u001b[0m\u001b[1;39;49m]\u001b[0m\u001b[39;49m A new release of pip available: \u001b[0m\u001b[31;49m22.1.2\u001b[0m\u001b[39;49m -> \u001b[0m\u001b[32;49m22.3.1\u001b[0m\n",
            "\u001b[1m[\u001b[0m\u001b[34;49mnotice\u001b[0m\u001b[1;39;49m]\u001b[0m\u001b[39;49m To update, run: \u001b[0m\u001b[32;49mpip install --upgrade pip\u001b[0m\n"
          ]
        }
      ],
      "source": [
        "!pip3 install transformers\n",
        "!pip3 install evaluate\n",
        "!pip3 install torch\n",
        "!pip3 install protobuf==3.20.3\n",
        "!pip3 install snscrape"
      ]
    },
    {
      "cell_type": "code",
      "execution_count": null,
      "metadata": {
        "id": "uZ3GmLThGnti"
      },
      "outputs": [],
      "source": [
        "import pandas as pd\n",
        "import numpy as np\n",
        "import re\n",
        "\n",
        "import torch\n",
        "from sklearn.model_selection import train_test_split\n",
        "\n",
        "from huggingface_hub import notebook_login\n",
        "from transformers import AutoTokenizer, AutoModelForSequenceClassification, TrainingArguments, Trainer, TextClassificationPipeline\n",
        "from datasets import Dataset\n",
        "import evaluate\n",
        "\n",
        "from tqdm.notebook import tqdm\n",
        "\n",
        "import snscrape.modules.twitter as sntwitter"
      ]
    },
    {
      "cell_type": "code",
      "execution_count": null,
      "metadata": {
        "id": "dMBjHZOiHogq"
      },
      "outputs": [],
      "source": [
        "class DataLoader():\n",
        "        \n",
        "    def import_tweets(self, path, cols=[0, 5]):\n",
        "        self.tweets_df = pd.read_csv(path, usecols=cols, names=[\"label\", \"text\"], encoding='latin-1') # spentiment140 specific\n",
        "        self.num_tweets = self.tweets_df.shape[0]\n",
        "        \n",
        "        self.tweets_df[\"text\"] = self.tweets_df[\"text\"].astype(str)\n",
        "        self.tweets_df[\"label\"] = self.tweets_df[\"label\"].astype(str)\n",
        "\n",
        "        return self.tweets_df\n",
        "                \n",
        "    def split_tweets(self, train_size, test_size):\n",
        "        self.tweets_train, self.tweets_test = train_test_split(self.tweets_df, train_size=train_size, test_size=test_size)\n",
        "        return self.tweets_train, self.tweets_test"
      ]
    },
    {
      "cell_type": "code",
      "execution_count": null,
      "metadata": {
        "id": "L5p8PFXuHx_1"
      },
      "outputs": [],
      "source": [
        "class TwitterSentimentClassifier():\n",
        "    \n",
        "    def __init__(self, model_name='Twitter/twhin-bert-base', num_labels=2, label2int={\"0\":0, \"4\":1}, train_size=9000, test_size=1000):\n",
        "        self.model_name = model_name\n",
        "        self.num_labels = num_labels\n",
        "        \n",
        "        self.train_size = train_size\n",
        "        self.test_size = test_size\n",
        "        \n",
        "        self.tokenizer = AutoTokenizer.from_pretrained(self.model_name)\n",
        "        self.label_to_int = label2int\n",
        "        \n",
        "        self.metric_accuracy = evaluate.load(\"accuracy\")\n",
        "        self.metric_precision = evaluate.load(\"precision\")\n",
        "        self.metric_recall = evaluate.load(\"recall\")   \n",
        "        \n",
        "    def tokenize_function(self, batch):\n",
        "        tokenized_batch = self.tokenizer(batch[\"text\"], padding='max_length', truncation=True, max_length=140)\n",
        "        tokenized_batch[\"label\"] = [self.label_to_int[label] for label in batch[\"label\"]]\n",
        "        return tokenized_batch\n",
        "    \n",
        "    def import_tweets(self, path):\n",
        "        dl = DataLoader()\n",
        "        dl.import_tweets(path)\n",
        "        self.train, self.test = dl.split_tweets(self.train_size, self.test_size)\n",
        "        \n",
        "        self.train = Dataset.from_pandas(self.train)\n",
        "        self.test =  Dataset.from_pandas(self.test)\n",
        "        \n",
        "        self.train_dataset = self.train.map(self.tokenize_function, batched=True)\n",
        "        self.test_dataset = self.test.map(self.tokenize_function, batched=True)\n",
        "        \n",
        "    def get_metrics(self, predictions, labels):\n",
        "        accuracy = self.metric_accuracy.compute(predictions=predictions, references=labels)[\"accuracy\"]\n",
        "        precision = self.metric_precision.compute(predictions=predictions, references=labels)[\"precision\"]\n",
        "        recall = self.metric_recall.compute(predictions=predictions, references=labels)[\"recall\"]\n",
        "        f1_score = 2 * (precision * recall) / (precision + recall)\n",
        "\n",
        "        return {\"accuracy\":accuracy,\n",
        "                \"precision\":precision,\n",
        "                \"recall\":recall,\n",
        "                \"f1\": f1_score}\n",
        "        \n",
        "    def compute_metrics(self, eval_pred):\n",
        "        logits, labels = eval_pred\n",
        "        predictions = np.argmax(logits, axis=-1)\n",
        "\n",
        "        return get_metrics(predictions, labels)\n",
        "\n",
        "    def train_model(self):\n",
        "        self.model = AutoModelForSequenceClassification.from_pretrained(self.model_name, num_labels=self.num_labels)\n",
        "        self.training_args = TrainingArguments(\n",
        "            report_to=\"wandb\",\n",
        "            #report_to=\"none\",\n",
        "            output_dir=\"training_arguments\", \n",
        "            save_strategy=\"no\", # limited storage on SCC\n",
        "            #save_steps=10000,\n",
        "            evaluation_strategy=\"epoch\",\n",
        "            per_device_train_batch_size=32,\n",
        "            per_device_eval_batch_size=32,\n",
        "            learning_rate=3e-5,\n",
        "            weight_decay=0.01,\n",
        "            num_train_epochs=3,\n",
        "            #warmup_ratio=0.1,\n",
        "        )\n",
        "        \n",
        "        self.trainer = Trainer(\n",
        "            model=self.model,\n",
        "            args=self.training_args,\n",
        "            train_dataset=self.train_dataset,\n",
        "            eval_dataset=self.test_dataset,\n",
        "            compute_metrics=self.compute_metrics,\n",
        "        )\n",
        "        \n",
        "        self.trainer.train()\n",
        "        \n",
        "        ts.model = ts.model.to(\"cpu\")\n",
        "        \n",
        "    def save_model_local(self, path):\n",
        "        self.trainer.save_model(path)\n",
        "        \n",
        "    def save_model_cloud(self):\n",
        "        raise NotImplementedError(\"not currently implemented\") \n",
        "        #self.trainer.push_to_hub(\"ivan-nikitovic/twitter-sentiment-analyzer\")\n",
        "    \n",
        "    def load_saved_model(self, path):\n",
        "        self.model = AutoModelForSequenceClassification.from_pretrained(path, num_labels=self.num_labels)\n",
        "        self.model = self.model.to(\"cpu\")\n",
        "        self.pipe = TextClassificationPipeline(model=self.model, tokenizer=self.tokenizer)\n",
        "        \n",
        "    def get_scores(self, text):\n",
        "        return self.pipe(text)\n",
        "    \n",
        "    def predict(self, text):\n",
        "        label2id = {\"LABEL_0\":0, \"LABEL_1\":1}\n",
        "        scores = self.get_scores(text)\n",
        "\n",
        "        predicted = [label2id[sample[\"label\"]] for sample in scores]\n",
        "        \n",
        "        return predicted\n",
        "    \n",
        "    def evaluate_model(self, path, cols=[0, 5]):\n",
        "        dl = DataLoader()\n",
        "        dl.import_tweets(path, cols=cols)\n",
        "        \n",
        "        self.eval = Dataset.from_pandas(dl.tweets_df)\n",
        "        self.eval_dataset = self.eval.map(self.tokenize_function, batched=True)\n",
        "        \n",
        "        predictions = np.array(ts.predict(ts.eval_dataset[\"text\"]))\n",
        "        labels = np.array(ts.eval_dataset[\"label\"])\n",
        "        \n",
        "        return self.get_metrics(predictions, labels)"
      ]
    },
    {
      "cell_type": "code",
      "execution_count": null,
      "metadata": {
        "id": "ulzbcYk2HzRK"
      },
      "outputs": [],
      "source": [
        "ts = TwitterSentimentClassifier()"
      ]
    },
    {
      "cell_type": "code",
      "execution_count": null,
      "metadata": {
        "colab": {
          "base_uri": "https://localhost:8080/",
          "height": 81,
          "referenced_widgets": [
            "4941fbf3383c4305b81c30764c27a2a3",
            "8e9b439bbfce427ca626c12a896b109a",
            "46b9c93383de403d9e479cf0ef9b5d1b",
            "171991dc624c4824bf102579b347bc78",
            "abcc33f2ebf849ed8a3f43d58c75dcfd",
            "8692afbcb8a0445eb212c8187442b755",
            "422a479485d140e0a7457f8ea0fa6857",
            "348fbbe2a4554a02bfca9e390f8d6a99",
            "04485c9a9a024642af9de3ed824a2e78",
            "3d65a1b590e349e9a93529ec3cee4522",
            "ea56e94235624b4087153008d2846297",
            "708f1ce3d2d040c786ac41f36f7b8e77",
            "bf45e418727849c8b44d631536f0367e",
            "12d80add880d48899d96f08062d60637",
            "1ebbca00b105417597fc04f271d3dde9",
            "87843fc66a054745a1b9066e39028858",
            "1db4a613397344ff8560abd7a9eae419",
            "a045f78ccb35452caf308662b923553d",
            "4551b1bae96d46f69cf555d64a7b381e",
            "5a5838e5da264e89a16c5c45e77a5c7d",
            "8fb03ac5ec44467cbbb6e77b62ad12a5",
            "944fc0c40bf44115bc6f67464d3bb5f6",
            "cde4a3f0122e495892699140741e3550",
            "83fac1ce75724f7dbe3f6e7aa7223730"
          ]
        },
        "collapsed": true,
        "id": "0cdaVX_OH3ax",
        "outputId": "6bf6a2a2-26ef-46c2-cba6-e43195e60b5e"
      },
      "outputs": [
        {
          "name": "stderr",
          "output_type": "stream",
          "text": [
            "/share/pkg.7/python3/3.10.5/install/lib/python3.10/site-packages/dill/_dill.py:1845: PicklingWarning: Cannot locate reference to <class '__main__.TwitterSentiment'>.\n",
            "  warnings.warn('Cannot locate reference to %r.' % (obj,), PicklingWarning)\n",
            "/share/pkg.7/python3/3.10.5/install/lib/python3.10/site-packages/dill/_dill.py:1847: PicklingWarning: Cannot pickle <class '__main__.TwitterSentiment'>: __main__.TwitterSentiment has recursive self-references that trigger a RecursionError.\n",
            "  warnings.warn('Cannot pickle %r: %s.%s has recursive self-references that trigger a RecursionError.' % (obj, obj.__module__, obj_name), PicklingWarning)\n"
          ]
        },
        {
          "data": {
            "application/vnd.jupyter.widget-view+json": {
              "model_id": "cde4a3f0122e495892699140741e3550",
              "version_major": 2,
              "version_minor": 0
            },
            "text/plain": [
              "  0%|          | 0/9 [00:00<?, ?ba/s]"
            ]
          },
          "metadata": {},
          "output_type": "display_data"
        },
        {
          "data": {
            "application/vnd.jupyter.widget-view+json": {
              "model_id": "83fac1ce75724f7dbe3f6e7aa7223730",
              "version_major": 2,
              "version_minor": 0
            },
            "text/plain": [
              "  0%|          | 0/1 [00:00<?, ?ba/s]"
            ]
          },
          "metadata": {},
          "output_type": "display_data"
        }
      ],
      "source": [
        "dataFile = 'sentiment140.csv'\n",
        "\n",
        "# usecols=[label, text]\n",
        "ts.import_tweets(dataFile, usecols=[0, 5])"
      ]
    },
    {
      "cell_type": "code",
      "execution_count": null,
      "metadata": {
        "collapsed": true,
        "id": "1GlRdWpxcFFM",
        "outputId": "61bf1529-5883-40cf-e030-ba9903a1c65f"
      },
      "outputs": [
        {
          "name": "stderr",
          "output_type": "stream",
          "text": [
            "Some weights of the model checkpoint at Twitter/twhin-bert-base were not used when initializing BertForSequenceClassification: ['cls.predictions.decoder.bias', 'cls.predictions.transform.LayerNorm.weight', 'cls.predictions.transform.dense.bias', 'cls.predictions.bias', 'cls.predictions.decoder.weight', 'cls.predictions.transform.dense.weight', 'cls.predictions.transform.LayerNorm.bias']\n",
            "- This IS expected if you are initializing BertForSequenceClassification from the checkpoint of a model trained on another task or with another architecture (e.g. initializing a BertForSequenceClassification model from a BertForPreTraining model).\n",
            "- This IS NOT expected if you are initializing BertForSequenceClassification from the checkpoint of a model that you expect to be exactly identical (initializing a BertForSequenceClassification model from a BertForSequenceClassification model).\n",
            "Some weights of BertForSequenceClassification were not initialized from the model checkpoint at Twitter/twhin-bert-base and are newly initialized: ['classifier.weight', 'bert.pooler.dense.bias', 'bert.pooler.dense.weight', 'classifier.bias']\n",
            "You should probably TRAIN this model on a down-stream task to be able to use it for predictions and inference.\n",
            "The following columns in the training set don't have a corresponding argument in `BertForSequenceClassification.forward` and have been ignored: __index_level_0__, text. If __index_level_0__, text are not expected by `BertForSequenceClassification.forward`,  you can safely ignore this message.\n",
            "/usr4/cs505ws/in/.local/lib/python3.10/site-packages/transformers/optimization.py:306: FutureWarning: This implementation of AdamW is deprecated and will be removed in a future version. Use the PyTorch implementation torch.optim.AdamW instead, or set `no_deprecation_warning=True` to disable this warning\n",
            "  warnings.warn(\n",
            "***** Running training *****\n",
            "  Num examples = 450000\n",
            "  Num Epochs = 2\n",
            "  Instantaneous batch size per device = 32\n",
            "  Total train batch size (w. parallel, distributed & accumulation) = 128\n",
            "  Gradient Accumulation steps = 1\n",
            "  Total optimization steps = 7032\n",
            "  Number of trainable parameters = 278830082\n",
            "Automatic Weights & Biases logging enabled, to disable set os.environ[\"WANDB_DISABLED\"] = \"true\"\n",
            "Failed to detect the name of this notebook, you can set it manually with the WANDB_NOTEBOOK_NAME environment variable to enable code saving.\n",
            "\u001b[34m\u001b[1mwandb\u001b[0m: Currently logged in as: \u001b[33mivann-bu\u001b[0m (\u001b[33mcs505\u001b[0m). Use \u001b[1m`wandb login --relogin`\u001b[0m to force relogin\n",
            "/share/pkg.7/python3/3.10.5/install/lib/python3.10/site-packages/numpy/core/getlimits.py:499: UserWarning: The value of the smallest subnormal for <class 'numpy.float32'> type is zero.\n",
            "  setattr(self, word, getattr(machar, word).flat[0])\n",
            "/share/pkg.7/python3/3.10.5/install/lib/python3.10/site-packages/numpy/core/getlimits.py:89: UserWarning: The value of the smallest subnormal for <class 'numpy.float32'> type is zero.\n",
            "  return self._float_to_str(self.smallest_subnormal)\n",
            "/share/pkg.7/python3/3.10.5/install/lib/python3.10/site-packages/numpy/core/getlimits.py:499: UserWarning: The value of the smallest subnormal for <class 'numpy.float64'> type is zero.\n",
            "  setattr(self, word, getattr(machar, word).flat[0])\n",
            "/share/pkg.7/python3/3.10.5/install/lib/python3.10/site-packages/numpy/core/getlimits.py:89: UserWarning: The value of the smallest subnormal for <class 'numpy.float64'> type is zero.\n",
            "  return self._float_to_str(self.smallest_subnormal)\n"
          ]
        },
        {
          "data": {
            "text/html": [
              "wandb version 0.13.6 is available!  To upgrade, please run:\n",
              " $ pip install wandb --upgrade"
            ],
            "text/plain": [
              "<IPython.core.display.HTML object>"
            ]
          },
          "metadata": {},
          "output_type": "display_data"
        },
        {
          "data": {
            "text/html": [
              "Tracking run with wandb version 0.12.16"
            ],
            "text/plain": [
              "<IPython.core.display.HTML object>"
            ]
          },
          "metadata": {},
          "output_type": "display_data"
        },
        {
          "data": {
            "text/html": [
              "Run data is saved locally in <code>/usr4/cs505ws/in/Desktop/CS505/wandb/run-20221212_141601-2e2bwlaa</code>"
            ],
            "text/plain": [
              "<IPython.core.display.HTML object>"
            ]
          },
          "metadata": {},
          "output_type": "display_data"
        },
        {
          "data": {
            "text/html": [
              "Syncing run <strong><a href=\"https://wandb.ai/cs505/huggingface/runs/2e2bwlaa\" target=\"_blank\">training_arguments</a></strong> to <a href=\"https://wandb.ai/cs505/huggingface\" target=\"_blank\">Weights & Biases</a> (<a href=\"https://wandb.me/run\" target=\"_blank\">docs</a>)<br/>"
            ],
            "text/plain": [
              "<IPython.core.display.HTML object>"
            ]
          },
          "metadata": {},
          "output_type": "display_data"
        },
        {
          "name": "stderr",
          "output_type": "stream",
          "text": [
            "/usr4/cs505ws/in/.local/lib/python3.10/site-packages/torch/nn/parallel/_functions.py:68: UserWarning: Was asked to gather along dimension 0, but all input tensors were scalars; will instead unsqueeze and return a vector.\n",
            "  warnings.warn('Was asked to gather along dimension 0, but all '\n"
          ]
        },
        {
          "data": {
            "text/html": [
              "\n",
              "    <div>\n",
              "      \n",
              "      <progress value='7032' max='7032' style='width:300px; height:20px; vertical-align: middle;'></progress>\n",
              "      [7032/7032 1:19:15, Epoch 2/2]\n",
              "    </div>\n",
              "    <table border=\"1\" class=\"dataframe\">\n",
              "  <thead>\n",
              " <tr style=\"text-align: left;\">\n",
              "      <th>Epoch</th>\n",
              "      <th>Training Loss</th>\n",
              "      <th>Validation Loss</th>\n",
              "      <th>Accuracy</th>\n",
              "      <th>Precision</th>\n",
              "      <th>Recall</th>\n",
              "      <th>F1</th>\n",
              "    </tr>\n",
              "  </thead>\n",
              "  <tbody>\n",
              "    <tr>\n",
              "      <td>1</td>\n",
              "      <td>0.315800</td>\n",
              "      <td>0.316543</td>\n",
              "      <td>0.864280</td>\n",
              "      <td>0.835128</td>\n",
              "      <td>0.907314</td>\n",
              "      <td>0.869725</td>\n",
              "    </tr>\n",
              "    <tr>\n",
              "      <td>2</td>\n",
              "      <td>0.256500</td>\n",
              "      <td>0.314273</td>\n",
              "      <td>0.870300</td>\n",
              "      <td>0.873338</td>\n",
              "      <td>0.865818</td>\n",
              "      <td>0.869562</td>\n",
              "    </tr>\n",
              "  </tbody>\n",
              "</table><p>"
            ],
            "text/plain": [
              "<IPython.core.display.HTML object>"
            ]
          },
          "metadata": {},
          "output_type": "display_data"
        },
        {
          "name": "stderr",
          "output_type": "stream",
          "text": [
            "The following columns in the evaluation set don't have a corresponding argument in `BertForSequenceClassification.forward` and have been ignored: __index_level_0__, text. If __index_level_0__, text are not expected by `BertForSequenceClassification.forward`,  you can safely ignore this message.\n",
            "***** Running Evaluation *****\n",
            "  Num examples = 50000\n",
            "  Batch size = 128\n",
            "/usr4/cs505ws/in/.local/lib/python3.10/site-packages/torch/nn/parallel/_functions.py:68: UserWarning: Was asked to gather along dimension 0, but all input tensors were scalars; will instead unsqueeze and return a vector.\n",
            "  warnings.warn('Was asked to gather along dimension 0, but all '\n",
            "The following columns in the evaluation set don't have a corresponding argument in `BertForSequenceClassification.forward` and have been ignored: __index_level_0__, text. If __index_level_0__, text are not expected by `BertForSequenceClassification.forward`,  you can safely ignore this message.\n",
            "***** Running Evaluation *****\n",
            "  Num examples = 50000\n",
            "  Batch size = 128\n",
            "\n",
            "\n",
            "Training completed. Do not forget to share your model on huggingface.co/models =)\n",
            "\n",
            "\n"
          ]
        }
      ],
      "source": [
        "ts.train_model()"
      ]
    },
    {
      "cell_type": "code",
      "execution_count": null,
      "metadata": {
        "collapsed": true,
        "id": "4lXsi2dicFFN",
        "outputId": "7e2ea941-feaa-43bd-e450-7f3972b68316"
      },
      "outputs": [
        {
          "name": "stderr",
          "output_type": "stream",
          "text": [
            "Saving model checkpoint to twitter-sentiment-500k-2e\n",
            "Configuration saved in twitter-sentiment-500k-2e/config.json\n",
            "Model weights saved in twitter-sentiment-500k-2e/pytorch_model.bin\n"
          ]
        }
      ],
      "source": [
        "ts.save_model_local(\"twitter-sentiment-500k-2e\")"
      ]
    },
    {
      "cell_type": "code",
      "execution_count": null,
      "metadata": {
        "id": "22tcYbsEcFFO"
      },
      "outputs": [],
      "source": [
        "ts.load_saved_model(\"twitter-sentiment-500k-2e\")"
      ]
    },
    {
      "cell_type": "code",
      "execution_count": null,
      "metadata": {
        "scrolled": true,
        "id": "Ajv7YLO-cFFO",
        "outputId": "e3c2762c-f283-47ef-cd3e-3fa31c99e02a",
        "colab": {
          "referenced_widgets": [
            "dda61d6d1dc1456d9bc38f9e23ce4600"
          ]
        }
      },
      "outputs": [
        {
          "name": "stderr",
          "output_type": "stream",
          "text": [
            "/share/pkg.7/python3/3.10.5/install/lib/python3.10/site-packages/dill/_dill.py:1845: PicklingWarning: Cannot locate reference to <class '__main__.TwitterSentiment'>.\n",
            "  warnings.warn('Cannot locate reference to %r.' % (obj,), PicklingWarning)\n",
            "/share/pkg.7/python3/3.10.5/install/lib/python3.10/site-packages/dill/_dill.py:1847: PicklingWarning: Cannot pickle <class '__main__.TwitterSentiment'>: __main__.TwitterSentiment has recursive self-references that trigger a RecursionError.\n",
            "  warnings.warn('Cannot pickle %r: %s.%s has recursive self-references that trigger a RecursionError.' % (obj, obj.__module__, obj_name), PicklingWarning)\n"
          ]
        },
        {
          "data": {
            "application/vnd.jupyter.widget-view+json": {
              "model_id": "dda61d6d1dc1456d9bc38f9e23ce4600",
              "version_major": 2,
              "version_minor": 0
            },
            "text/plain": [
              "  0%|          | 0/1 [00:00<?, ?ba/s]"
            ]
          },
          "metadata": {},
          "output_type": "display_data"
        },
        {
          "data": {
            "text/plain": [
              "{'accuracy': 0.8356545961002786,\n",
              " 'precision': 0.8059701492537313,\n",
              " 'recall': 0.8901098901098901,\n",
              " 'f1': 0.845953002610966}"
            ]
          },
          "execution_count": 156,
          "metadata": {},
          "output_type": "execute_result"
        }
      ],
      "source": [
        "# on manual test set from sentiment140 (2009)\n",
        "ts.evaluate_model(\"sentiment140no_neutral.csv\")"
      ]
    },
    {
      "cell_type": "code",
      "execution_count": null,
      "metadata": {
        "id": "orliZqjIcFFP",
        "outputId": "40bda032-7713-48c4-a18d-2b6639b2c802",
        "colab": {
          "referenced_widgets": [
            "188b003d219d4de9b309691c1d76e502"
          ]
        }
      },
      "outputs": [
        {
          "name": "stderr",
          "output_type": "stream",
          "text": [
            "/share/pkg.7/python3/3.10.5/install/lib/python3.10/site-packages/dill/_dill.py:1845: PicklingWarning: Cannot locate reference to <class '__main__.TwitterSentiment'>.\n",
            "  warnings.warn('Cannot locate reference to %r.' % (obj,), PicklingWarning)\n",
            "/share/pkg.7/python3/3.10.5/install/lib/python3.10/site-packages/dill/_dill.py:1847: PicklingWarning: Cannot pickle <class '__main__.TwitterSentiment'>: __main__.TwitterSentiment has recursive self-references that trigger a RecursionError.\n",
            "  warnings.warn('Cannot pickle %r: %s.%s has recursive self-references that trigger a RecursionError.' % (obj, obj.__module__, obj_name), PicklingWarning)\n"
          ]
        },
        {
          "data": {
            "application/vnd.jupyter.widget-view+json": {
              "model_id": "188b003d219d4de9b309691c1d76e502",
              "version_major": 2,
              "version_minor": 0
            },
            "text/plain": [
              "  0%|          | 0/22 [00:00<?, ?ba/s]"
            ]
          },
          "metadata": {},
          "output_type": "display_data"
        },
        {
          "data": {
            "text/plain": [
              "{'accuracy': 0.8132368337202421,\n",
              " 'precision': 0.8892655367231639,\n",
              " 'recall': 0.8459155285786545,\n",
              " 'f1': 0.8670490262791225}"
            ]
          },
          "execution_count": 176,
          "metadata": {},
          "output_type": "execute_result"
        }
      ],
      "source": [
        "# sentument-eval dataset (~2017)\n",
        "ts.evaluate_model(\"sentiment_2016_no_neutral.csv\", cols=[0, 1])"
      ]
    },
    {
      "cell_type": "code",
      "execution_count": null,
      "metadata": {
        "id": "_Ch_GAKicFFQ"
      },
      "outputs": [],
      "source": [
        "class TwitterSentimentScraper():\n",
        "    \n",
        "    def __init__(self, result=None):\n",
        "        self.result = result\n",
        "        \n",
        "    def get_tweets(self, query, min_likes=0, num_tweets=None):\n",
        "        \"\"\"\n",
        "        Parameters\n",
        "        ----------\n",
        "        query : string\n",
        "            Query sent to Twitter API.\n",
        "        min_likes : int, optional\n",
        "            Minimum number of likes of tweets. The default is 0.\n",
        "        num_tweets : int, optional\n",
        "            Number of tweets to return. The default is to return all.\n",
        "    \n",
        "        Returns\n",
        "        -------\n",
        "        tweets_df : pandas dataframe\n",
        "            dataframe containing tweets with columns ['date_time', 'tweet_id', 'platform', 'username', 'num_likes', 'content'].\n",
        "    \n",
        "        \"\"\"\n",
        "        tweets = []\n",
        "        len_result = 0\n",
        "        \n",
        "        for tweet in sntwitter.TwitterSearchScraper(query).get_items():\n",
        "            if num_tweets and len_result == num_tweets:\n",
        "                break\n",
        "            \n",
        "            if tweet.likeCount > min_likes:\n",
        "                tweets.append([tweet.date, tweet.id, tweet.sourceLabel, tweet.user.username, tweet.likeCount, tweet.content])\n",
        "                len_result += 1\n",
        "     \n",
        "        tweets_df = pd.DataFrame(tweets, columns=['date_time', 'tweet_id', 'platform', 'username', 'num_likes', 'content'])\n",
        "        \n",
        "        return tweets_df\n",
        "    \n",
        "    def get_tweets_from_user(self, username, since=None, until=None, min_likes=0, num_tweets=None):\n",
        "        \"\"\"\n",
        "        Parameters\n",
        "        ----------\n",
        "        username : string\n",
        "            Twitter username (without @).\n",
        "        since : string (\"YYYY-MM-DD\")\n",
        "            From when to return tweets.\n",
        "        until : string (\"YYYY-MM-DD\")\n",
        "            Until when to return tweets.\n",
        "        num_tweets : int, optional\n",
        "            Number of tweets to return. The default is to return all.\n",
        "    \n",
        "        Returns\n",
        "        -------\n",
        "        tweets_df : pandas dataframe containing tweets\n",
        "    \n",
        "        \"\"\"\n",
        "        \n",
        "        if since and until:\n",
        "            query = f\"from:{username} since:{since} until:{until} -is:retweet\"\n",
        "        else:\n",
        "            query = f\"from:{username} -is:retweet\"\n",
        "        \n",
        "        tweets_df = self.get_tweets(query, min_likes=min_likes, num_tweets=num_tweets)\n",
        "        \n",
        "        self.result = tweets_df\n",
        "        return tweets_df\n",
        "    \n",
        "    def get_tweets_from_key(self, key, since, until, lang=\"en\", links=False, retweets=False, min_likes=0, num_tweets=None):\n",
        "        \"\"\"\n",
        "        Parameters\n",
        "        ----------\n",
        "        key : string\n",
        "            Mathces tweets with key included.\n",
        "        since : string (\"YYYY-MM-DD\")\n",
        "            From when to return tweets.\n",
        "        until : string (\"YYYY-MM-DD\")\n",
        "            Until when to return tweets.\n",
        "        lang : string, optional\n",
        "            Language of tweets to return. The default is English.\n",
        "        num_tweets : int, optional\n",
        "            Number of tweets to return. The default is to return all.\n",
        "    \n",
        "        Returns\n",
        "        -------\n",
        "        tweets_df : pandas dataframe containing tweets\n",
        "    \n",
        "        \"\"\"\n",
        "        \n",
        "        query = f\"{key} since:{since} until:{until} lang:{lang}\"\n",
        "        if not retweets:\n",
        "            query += \" -is:retweet\"\n",
        "        if not links:\n",
        "            query += \" -has:links\"\n",
        "        \n",
        "        tweets_df = self.get_tweets(query, min_likes=min_likes, num_tweets=num_tweets)\n",
        "        \n",
        "        self.result = tweets_df\n",
        "        return tweets_df\n",
        "    \n",
        "    def serialize_result(self, file_name):\n",
        "        self.result.to_csv(file_name, encoding='utf-8') "
      ]
    },
    {
      "cell_type": "code",
      "execution_count": null,
      "metadata": {
        "id": "Ni_47xjLcFFS"
      },
      "outputs": [],
      "source": [
        "class TwitterSentiment():\n",
        "    \n",
        "    def __init__(self, keywords, min_likes=5):\n",
        "    \n",
        "        self.keywords = keywords\n",
        "        self.min_likes = min_likes\n",
        "        \n",
        "        self.scraper = TwitterSentimentScraper()\n",
        "        self.model = TwitterSentimentClassifier()\n",
        "        \n",
        "    def scrape_tweets(self, since, until):\n",
        "        \n",
        "        self.tweets = dict()\n",
        "        \n",
        "        for i, key in enumerate(tqdm(self.keywords)):\n",
        "            self.tweets[key] = self.scraper.get_tweets_from_key(key, since, until, min_likes=self.min_likes)\n",
        "        \n",
        "    def load_saved_model(self, path):\n",
        "        \n",
        "        self.model.load_saved_model(path)\n",
        "    \n",
        "    def predict_sentiment(self):\n",
        "        \n",
        "        sentiment_scores = list()\n",
        "        self.sentiment_list = list()\n",
        "        self.tweets_content = list()\n",
        "        for i, key in enumerate(tqdm(self.tweets)):\n",
        "            tweets_topic_df = self.tweets[key]\n",
        "            \n",
        "            # TODO: better duplicate resolver needed\n",
        "            self.tweets_content.append([tweet.replace(\"\\n\", \" \") for tweet in list(set(tweets_topic_df[\"content\"]))])\n",
        "            self.sentiment_list.append(self.model.predict(self.tweets_content[i]))\n",
        "\n",
        "            sentiment_scores.append(sum(self.sentiment_list[i])/len(self.sentiment_list[i]))\n",
        "        \n",
        "        self.sentiment = pd.DataFrame(list(zip(self.keywords, sentiment_scores)), columns=[\"Keyword\", \"Sentiment\"])\n",
        "            \n",
        "        return self.sentiment\n",
        "            \n",
        "    def manual_review(self):\n",
        "        \n",
        "        for i in range(len(self.sentiment_list)):\n",
        "            print(\"-----------------------------\")\n",
        "            print(\"Sentiment: \", self.sentiment_list[i])\n",
        "            print(\"--------------\")\n",
        "            print(self.tweets_content[i])\n",
        "            print(\"-----------------------------\")\n",
        "            \n",
        "    def __main__(self, since, until, model=\"twitter-sentiment-500k-2e\"):\n",
        "        self.load_saved_model(model)\n",
        "        self.scrape_tweets(since, until)\n",
        "        self.predict_sentiment()\n",
        "        \n",
        "        with pd.option_context('display.max_rows', None,\n",
        "                       'display.max_columns', None,\n",
        "                       'display.precision', 4,\n",
        "                       ):\n",
        "            print(self.sentiment)\n",
        "        "
      ]
    },
    {
      "cell_type": "code",
      "execution_count": null,
      "metadata": {
        "id": "lGSn7sdecFFU"
      },
      "outputs": [],
      "source": [
        "tst = TwitterSentiment([\"Joe Biden\", \"Donald Trump\", \"Vladimir Putin\"], min_likes=10)"
      ]
    },
    {
      "cell_type": "code",
      "execution_count": null,
      "metadata": {
        "id": "e-NKyGs4cFFV",
        "outputId": "2b109588-68ea-4814-d862-8a7c79dacbec"
      },
      "outputs": [
        {
          "data": {
            "text/html": [
              "<div>\n",
              "<style scoped>\n",
              "    .dataframe tbody tr th:only-of-type {\n",
              "        vertical-align: middle;\n",
              "    }\n",
              "\n",
              "    .dataframe tbody tr th {\n",
              "        vertical-align: top;\n",
              "    }\n",
              "\n",
              "    .dataframe thead th {\n",
              "        text-align: right;\n",
              "    }\n",
              "</style>\n",
              "<table border=\"1\" class=\"dataframe\">\n",
              "  <thead>\n",
              "    <tr style=\"text-align: right;\">\n",
              "      <th></th>\n",
              "      <th>Keyword</th>\n",
              "      <th>Sentiment</th>\n",
              "    </tr>\n",
              "  </thead>\n",
              "  <tbody>\n",
              "    <tr>\n",
              "      <th>0</th>\n",
              "      <td>Joe Biden</td>\n",
              "      <td>0.390864</td>\n",
              "    </tr>\n",
              "    <tr>\n",
              "      <th>1</th>\n",
              "      <td>Donald Trump</td>\n",
              "      <td>0.512868</td>\n",
              "    </tr>\n",
              "    <tr>\n",
              "      <th>2</th>\n",
              "      <td>Vladimir Putin</td>\n",
              "      <td>0.233645</td>\n",
              "    </tr>\n",
              "  </tbody>\n",
              "</table>\n",
              "</div>"
            ],
            "text/plain": [
              "          Keyword  Sentiment\n",
              "0       Joe Biden   0.390864\n",
              "1    Donald Trump   0.512868\n",
              "2  Vladimir Putin   0.233645"
            ]
          },
          "execution_count": 202,
          "metadata": {},
          "output_type": "execute_result"
        }
      ],
      "source": [
        "# Twitter sentiment of Joe Biden, Donald Trump, Vladimir Putin on December 1st, 2022\n",
        "tst.__main__(\"2022-12-01\", \"2022-12-02\")"
      ]
    },
    {
      "cell_type": "code",
      "execution_count": null,
      "metadata": {
        "id": "Zb0vjpwycFFV"
      },
      "outputs": [],
      "source": [
        "tst = TwitterSentiment([\"Novak Djokovic\", \"Dusan Vlahovic\"], min_likes=3)"
      ]
    },
    {
      "cell_type": "code",
      "execution_count": null,
      "metadata": {
        "id": "A_S1kSMacFFW",
        "outputId": "7f9e8d2a-a0ac-42cc-d938-9e0b82e81089",
        "colab": {
          "referenced_widgets": [
            "0b352d3296564819b7350d66a2de4fb7",
            "675b05fa427f4d2db06409a311f3cfb4"
          ]
        }
      },
      "outputs": [
        {
          "data": {
            "application/vnd.jupyter.widget-view+json": {
              "model_id": "0b352d3296564819b7350d66a2de4fb7",
              "version_major": 2,
              "version_minor": 0
            },
            "text/plain": [
              "  0%|          | 0/2 [00:00<?, ?it/s]"
            ]
          },
          "metadata": {},
          "output_type": "display_data"
        },
        {
          "data": {
            "application/vnd.jupyter.widget-view+json": {
              "model_id": "675b05fa427f4d2db06409a311f3cfb4",
              "version_major": 2,
              "version_minor": 0
            },
            "text/plain": [
              "  0%|          | 0/2 [00:00<?, ?it/s]"
            ]
          },
          "metadata": {},
          "output_type": "display_data"
        },
        {
          "name": "stdout",
          "output_type": "stream",
          "text": [
            "          Keyword  Sentiment\n",
            "0  Novak Djokovic     0.8814\n",
            "1  Dusan Vlahovic     0.3333\n"
          ]
        }
      ],
      "source": [
        "# Twitter sentiment of Novak Djokovic, Dusan Vlahovic on December 1st, 2022\n",
        "tst.__main__(\"2022-12-01\", \"2022-12-02\")"
      ]
    },
    {
      "cell_type": "code",
      "execution_count": null,
      "metadata": {
        "id": "WTUdTgUAcFFX"
      },
      "outputs": [],
      "source": [
        "tst = TwitterSentiment([\"Russia\", \"Ukraine\"], min_likes=10)"
      ]
    },
    {
      "cell_type": "code",
      "execution_count": null,
      "metadata": {
        "id": "BpkfUMcpcFFX",
        "outputId": "14121d7b-7f22-4cb9-a918-df8a5f897ae7",
        "colab": {
          "referenced_widgets": [
            "843ebaecf48b480fa7262f2bd2a18985",
            "46b960d336794723b1c1be09878477fa"
          ]
        }
      },
      "outputs": [
        {
          "data": {
            "application/vnd.jupyter.widget-view+json": {
              "model_id": "843ebaecf48b480fa7262f2bd2a18985",
              "version_major": 2,
              "version_minor": 0
            },
            "text/plain": [
              "  0%|          | 0/2 [00:00<?, ?it/s]"
            ]
          },
          "metadata": {},
          "output_type": "display_data"
        },
        {
          "data": {
            "application/vnd.jupyter.widget-view+json": {
              "model_id": "46b960d336794723b1c1be09878477fa",
              "version_major": 2,
              "version_minor": 0
            },
            "text/plain": [
              "  0%|          | 0/2 [00:00<?, ?it/s]"
            ]
          },
          "metadata": {},
          "output_type": "display_data"
        },
        {
          "name": "stdout",
          "output_type": "stream",
          "text": [
            "   Keyword  Sentiment\n",
            "0   Russia     0.2886\n",
            "1  Ukraine     0.3340\n"
          ]
        }
      ],
      "source": [
        "tst.__main__(\"2022-12-01\", \"2022-12-02\")"
      ]
    }
  ],
  "metadata": {
    "accelerator": "GPU",
    "colab": {
      "provenance": []
    },
    "gpuClass": "standard",
    "kernelspec": {
      "display_name": "Python 3 (ipykernel)",
      "language": "python",
      "name": "python3"
    },
    "language_info": {
      "codemirror_mode": {
        "name": "ipython",
        "version": 3
      },
      "file_extension": ".py",
      "mimetype": "text/x-python",
      "name": "python",
      "nbconvert_exporter": "python",
      "pygments_lexer": "ipython3",
      "version": "3.10.5"
    },
    "widgets": {
      "application/vnd.jupyter.widget-state+json": {
        "04485c9a9a024642af9de3ed824a2e78": {
          "model_module": "@jupyter-widgets/controls",
          "model_module_version": "1.5.0",
          "model_name": "ProgressStyleModel",
          "state": {
            "_model_module": "@jupyter-widgets/controls",
            "_model_module_version": "1.5.0",
            "_model_name": "ProgressStyleModel",
            "_view_count": null,
            "_view_module": "@jupyter-widgets/base",
            "_view_module_version": "1.2.0",
            "_view_name": "StyleView",
            "bar_color": null,
            "description_width": ""
          }
        },
        "12d80add880d48899d96f08062d60637": {
          "model_module": "@jupyter-widgets/controls",
          "model_module_version": "1.5.0",
          "model_name": "FloatProgressModel",
          "state": {
            "_dom_classes": [],
            "_model_module": "@jupyter-widgets/controls",
            "_model_module_version": "1.5.0",
            "_model_name": "FloatProgressModel",
            "_view_count": null,
            "_view_module": "@jupyter-widgets/controls",
            "_view_module_version": "1.5.0",
            "_view_name": "ProgressView",
            "bar_style": "success",
            "description": "",
            "description_tooltip": null,
            "layout": "IPY_MODEL_4551b1bae96d46f69cf555d64a7b381e",
            "max": 7,
            "min": 0,
            "orientation": "horizontal",
            "style": "IPY_MODEL_5a5838e5da264e89a16c5c45e77a5c7d",
            "value": 7
          }
        },
        "171991dc624c4824bf102579b347bc78": {
          "model_module": "@jupyter-widgets/controls",
          "model_module_version": "1.5.0",
          "model_name": "HTMLModel",
          "state": {
            "_dom_classes": [],
            "_model_module": "@jupyter-widgets/controls",
            "_model_module_version": "1.5.0",
            "_model_name": "HTMLModel",
            "_view_count": null,
            "_view_module": "@jupyter-widgets/controls",
            "_view_module_version": "1.5.0",
            "_view_name": "HTMLView",
            "description": "",
            "description_tooltip": null,
            "layout": "IPY_MODEL_3d65a1b590e349e9a93529ec3cee4522",
            "placeholder": "​",
            "style": "IPY_MODEL_ea56e94235624b4087153008d2846297",
            "value": " 25/25 [00:04&lt;00:00,  6.35ba/s]"
          }
        },
        "1db4a613397344ff8560abd7a9eae419": {
          "model_module": "@jupyter-widgets/base",
          "model_module_version": "1.2.0",
          "model_name": "LayoutModel",
          "state": {
            "_model_module": "@jupyter-widgets/base",
            "_model_module_version": "1.2.0",
            "_model_name": "LayoutModel",
            "_view_count": null,
            "_view_module": "@jupyter-widgets/base",
            "_view_module_version": "1.2.0",
            "_view_name": "LayoutView",
            "align_content": null,
            "align_items": null,
            "align_self": null,
            "border": null,
            "bottom": null,
            "display": null,
            "flex": null,
            "flex_flow": null,
            "grid_area": null,
            "grid_auto_columns": null,
            "grid_auto_flow": null,
            "grid_auto_rows": null,
            "grid_column": null,
            "grid_gap": null,
            "grid_row": null,
            "grid_template_areas": null,
            "grid_template_columns": null,
            "grid_template_rows": null,
            "height": null,
            "justify_content": null,
            "justify_items": null,
            "left": null,
            "margin": null,
            "max_height": null,
            "max_width": null,
            "min_height": null,
            "min_width": null,
            "object_fit": null,
            "object_position": null,
            "order": null,
            "overflow": null,
            "overflow_x": null,
            "overflow_y": null,
            "padding": null,
            "right": null,
            "top": null,
            "visibility": null,
            "width": null
          }
        },
        "1ebbca00b105417597fc04f271d3dde9": {
          "model_module": "@jupyter-widgets/controls",
          "model_module_version": "1.5.0",
          "model_name": "HTMLModel",
          "state": {
            "_dom_classes": [],
            "_model_module": "@jupyter-widgets/controls",
            "_model_module_version": "1.5.0",
            "_model_name": "HTMLModel",
            "_view_count": null,
            "_view_module": "@jupyter-widgets/controls",
            "_view_module_version": "1.5.0",
            "_view_name": "HTMLView",
            "description": "",
            "description_tooltip": null,
            "layout": "IPY_MODEL_8fb03ac5ec44467cbbb6e77b62ad12a5",
            "placeholder": "​",
            "style": "IPY_MODEL_944fc0c40bf44115bc6f67464d3bb5f6",
            "value": " 7/7 [00:00&lt;00:00,  6.22ba/s]"
          }
        },
        "348fbbe2a4554a02bfca9e390f8d6a99": {
          "model_module": "@jupyter-widgets/base",
          "model_module_version": "1.2.0",
          "model_name": "LayoutModel",
          "state": {
            "_model_module": "@jupyter-widgets/base",
            "_model_module_version": "1.2.0",
            "_model_name": "LayoutModel",
            "_view_count": null,
            "_view_module": "@jupyter-widgets/base",
            "_view_module_version": "1.2.0",
            "_view_name": "LayoutView",
            "align_content": null,
            "align_items": null,
            "align_self": null,
            "border": null,
            "bottom": null,
            "display": null,
            "flex": null,
            "flex_flow": null,
            "grid_area": null,
            "grid_auto_columns": null,
            "grid_auto_flow": null,
            "grid_auto_rows": null,
            "grid_column": null,
            "grid_gap": null,
            "grid_row": null,
            "grid_template_areas": null,
            "grid_template_columns": null,
            "grid_template_rows": null,
            "height": null,
            "justify_content": null,
            "justify_items": null,
            "left": null,
            "margin": null,
            "max_height": null,
            "max_width": null,
            "min_height": null,
            "min_width": null,
            "object_fit": null,
            "object_position": null,
            "order": null,
            "overflow": null,
            "overflow_x": null,
            "overflow_y": null,
            "padding": null,
            "right": null,
            "top": null,
            "visibility": null,
            "width": null
          }
        },
        "3d65a1b590e349e9a93529ec3cee4522": {
          "model_module": "@jupyter-widgets/base",
          "model_module_version": "1.2.0",
          "model_name": "LayoutModel",
          "state": {
            "_model_module": "@jupyter-widgets/base",
            "_model_module_version": "1.2.0",
            "_model_name": "LayoutModel",
            "_view_count": null,
            "_view_module": "@jupyter-widgets/base",
            "_view_module_version": "1.2.0",
            "_view_name": "LayoutView",
            "align_content": null,
            "align_items": null,
            "align_self": null,
            "border": null,
            "bottom": null,
            "display": null,
            "flex": null,
            "flex_flow": null,
            "grid_area": null,
            "grid_auto_columns": null,
            "grid_auto_flow": null,
            "grid_auto_rows": null,
            "grid_column": null,
            "grid_gap": null,
            "grid_row": null,
            "grid_template_areas": null,
            "grid_template_columns": null,
            "grid_template_rows": null,
            "height": null,
            "justify_content": null,
            "justify_items": null,
            "left": null,
            "margin": null,
            "max_height": null,
            "max_width": null,
            "min_height": null,
            "min_width": null,
            "object_fit": null,
            "object_position": null,
            "order": null,
            "overflow": null,
            "overflow_x": null,
            "overflow_y": null,
            "padding": null,
            "right": null,
            "top": null,
            "visibility": null,
            "width": null
          }
        },
        "422a479485d140e0a7457f8ea0fa6857": {
          "model_module": "@jupyter-widgets/controls",
          "model_module_version": "1.5.0",
          "model_name": "DescriptionStyleModel",
          "state": {
            "_model_module": "@jupyter-widgets/controls",
            "_model_module_version": "1.5.0",
            "_model_name": "DescriptionStyleModel",
            "_view_count": null,
            "_view_module": "@jupyter-widgets/base",
            "_view_module_version": "1.2.0",
            "_view_name": "StyleView",
            "description_width": ""
          }
        },
        "4551b1bae96d46f69cf555d64a7b381e": {
          "model_module": "@jupyter-widgets/base",
          "model_module_version": "1.2.0",
          "model_name": "LayoutModel",
          "state": {
            "_model_module": "@jupyter-widgets/base",
            "_model_module_version": "1.2.0",
            "_model_name": "LayoutModel",
            "_view_count": null,
            "_view_module": "@jupyter-widgets/base",
            "_view_module_version": "1.2.0",
            "_view_name": "LayoutView",
            "align_content": null,
            "align_items": null,
            "align_self": null,
            "border": null,
            "bottom": null,
            "display": null,
            "flex": null,
            "flex_flow": null,
            "grid_area": null,
            "grid_auto_columns": null,
            "grid_auto_flow": null,
            "grid_auto_rows": null,
            "grid_column": null,
            "grid_gap": null,
            "grid_row": null,
            "grid_template_areas": null,
            "grid_template_columns": null,
            "grid_template_rows": null,
            "height": null,
            "justify_content": null,
            "justify_items": null,
            "left": null,
            "margin": null,
            "max_height": null,
            "max_width": null,
            "min_height": null,
            "min_width": null,
            "object_fit": null,
            "object_position": null,
            "order": null,
            "overflow": null,
            "overflow_x": null,
            "overflow_y": null,
            "padding": null,
            "right": null,
            "top": null,
            "visibility": null,
            "width": null
          }
        },
        "46b9c93383de403d9e479cf0ef9b5d1b": {
          "model_module": "@jupyter-widgets/controls",
          "model_module_version": "1.5.0",
          "model_name": "FloatProgressModel",
          "state": {
            "_dom_classes": [],
            "_model_module": "@jupyter-widgets/controls",
            "_model_module_version": "1.5.0",
            "_model_name": "FloatProgressModel",
            "_view_count": null,
            "_view_module": "@jupyter-widgets/controls",
            "_view_module_version": "1.5.0",
            "_view_name": "ProgressView",
            "bar_style": "success",
            "description": "",
            "description_tooltip": null,
            "layout": "IPY_MODEL_348fbbe2a4554a02bfca9e390f8d6a99",
            "max": 25,
            "min": 0,
            "orientation": "horizontal",
            "style": "IPY_MODEL_04485c9a9a024642af9de3ed824a2e78",
            "value": 25
          }
        },
        "4941fbf3383c4305b81c30764c27a2a3": {
          "model_module": "@jupyter-widgets/controls",
          "model_module_version": "1.5.0",
          "model_name": "HBoxModel",
          "state": {
            "_dom_classes": [],
            "_model_module": "@jupyter-widgets/controls",
            "_model_module_version": "1.5.0",
            "_model_name": "HBoxModel",
            "_view_count": null,
            "_view_module": "@jupyter-widgets/controls",
            "_view_module_version": "1.5.0",
            "_view_name": "HBoxView",
            "box_style": "",
            "children": [
              "IPY_MODEL_8e9b439bbfce427ca626c12a896b109a",
              "IPY_MODEL_46b9c93383de403d9e479cf0ef9b5d1b",
              "IPY_MODEL_171991dc624c4824bf102579b347bc78"
            ],
            "layout": "IPY_MODEL_abcc33f2ebf849ed8a3f43d58c75dcfd"
          }
        },
        "5a5838e5da264e89a16c5c45e77a5c7d": {
          "model_module": "@jupyter-widgets/controls",
          "model_module_version": "1.5.0",
          "model_name": "ProgressStyleModel",
          "state": {
            "_model_module": "@jupyter-widgets/controls",
            "_model_module_version": "1.5.0",
            "_model_name": "ProgressStyleModel",
            "_view_count": null,
            "_view_module": "@jupyter-widgets/base",
            "_view_module_version": "1.2.0",
            "_view_name": "StyleView",
            "bar_color": null,
            "description_width": ""
          }
        },
        "708f1ce3d2d040c786ac41f36f7b8e77": {
          "model_module": "@jupyter-widgets/controls",
          "model_module_version": "1.5.0",
          "model_name": "HBoxModel",
          "state": {
            "_dom_classes": [],
            "_model_module": "@jupyter-widgets/controls",
            "_model_module_version": "1.5.0",
            "_model_name": "HBoxModel",
            "_view_count": null,
            "_view_module": "@jupyter-widgets/controls",
            "_view_module_version": "1.5.0",
            "_view_name": "HBoxView",
            "box_style": "",
            "children": [
              "IPY_MODEL_bf45e418727849c8b44d631536f0367e",
              "IPY_MODEL_12d80add880d48899d96f08062d60637",
              "IPY_MODEL_1ebbca00b105417597fc04f271d3dde9"
            ],
            "layout": "IPY_MODEL_87843fc66a054745a1b9066e39028858"
          }
        },
        "8692afbcb8a0445eb212c8187442b755": {
          "model_module": "@jupyter-widgets/base",
          "model_module_version": "1.2.0",
          "model_name": "LayoutModel",
          "state": {
            "_model_module": "@jupyter-widgets/base",
            "_model_module_version": "1.2.0",
            "_model_name": "LayoutModel",
            "_view_count": null,
            "_view_module": "@jupyter-widgets/base",
            "_view_module_version": "1.2.0",
            "_view_name": "LayoutView",
            "align_content": null,
            "align_items": null,
            "align_self": null,
            "border": null,
            "bottom": null,
            "display": null,
            "flex": null,
            "flex_flow": null,
            "grid_area": null,
            "grid_auto_columns": null,
            "grid_auto_flow": null,
            "grid_auto_rows": null,
            "grid_column": null,
            "grid_gap": null,
            "grid_row": null,
            "grid_template_areas": null,
            "grid_template_columns": null,
            "grid_template_rows": null,
            "height": null,
            "justify_content": null,
            "justify_items": null,
            "left": null,
            "margin": null,
            "max_height": null,
            "max_width": null,
            "min_height": null,
            "min_width": null,
            "object_fit": null,
            "object_position": null,
            "order": null,
            "overflow": null,
            "overflow_x": null,
            "overflow_y": null,
            "padding": null,
            "right": null,
            "top": null,
            "visibility": null,
            "width": null
          }
        },
        "87843fc66a054745a1b9066e39028858": {
          "model_module": "@jupyter-widgets/base",
          "model_module_version": "1.2.0",
          "model_name": "LayoutModel",
          "state": {
            "_model_module": "@jupyter-widgets/base",
            "_model_module_version": "1.2.0",
            "_model_name": "LayoutModel",
            "_view_count": null,
            "_view_module": "@jupyter-widgets/base",
            "_view_module_version": "1.2.0",
            "_view_name": "LayoutView",
            "align_content": null,
            "align_items": null,
            "align_self": null,
            "border": null,
            "bottom": null,
            "display": null,
            "flex": null,
            "flex_flow": null,
            "grid_area": null,
            "grid_auto_columns": null,
            "grid_auto_flow": null,
            "grid_auto_rows": null,
            "grid_column": null,
            "grid_gap": null,
            "grid_row": null,
            "grid_template_areas": null,
            "grid_template_columns": null,
            "grid_template_rows": null,
            "height": null,
            "justify_content": null,
            "justify_items": null,
            "left": null,
            "margin": null,
            "max_height": null,
            "max_width": null,
            "min_height": null,
            "min_width": null,
            "object_fit": null,
            "object_position": null,
            "order": null,
            "overflow": null,
            "overflow_x": null,
            "overflow_y": null,
            "padding": null,
            "right": null,
            "top": null,
            "visibility": null,
            "width": null
          }
        },
        "8e9b439bbfce427ca626c12a896b109a": {
          "model_module": "@jupyter-widgets/controls",
          "model_module_version": "1.5.0",
          "model_name": "HTMLModel",
          "state": {
            "_dom_classes": [],
            "_model_module": "@jupyter-widgets/controls",
            "_model_module_version": "1.5.0",
            "_model_name": "HTMLModel",
            "_view_count": null,
            "_view_module": "@jupyter-widgets/controls",
            "_view_module_version": "1.5.0",
            "_view_name": "HTMLView",
            "description": "",
            "description_tooltip": null,
            "layout": "IPY_MODEL_8692afbcb8a0445eb212c8187442b755",
            "placeholder": "​",
            "style": "IPY_MODEL_422a479485d140e0a7457f8ea0fa6857",
            "value": "100%"
          }
        },
        "8fb03ac5ec44467cbbb6e77b62ad12a5": {
          "model_module": "@jupyter-widgets/base",
          "model_module_version": "1.2.0",
          "model_name": "LayoutModel",
          "state": {
            "_model_module": "@jupyter-widgets/base",
            "_model_module_version": "1.2.0",
            "_model_name": "LayoutModel",
            "_view_count": null,
            "_view_module": "@jupyter-widgets/base",
            "_view_module_version": "1.2.0",
            "_view_name": "LayoutView",
            "align_content": null,
            "align_items": null,
            "align_self": null,
            "border": null,
            "bottom": null,
            "display": null,
            "flex": null,
            "flex_flow": null,
            "grid_area": null,
            "grid_auto_columns": null,
            "grid_auto_flow": null,
            "grid_auto_rows": null,
            "grid_column": null,
            "grid_gap": null,
            "grid_row": null,
            "grid_template_areas": null,
            "grid_template_columns": null,
            "grid_template_rows": null,
            "height": null,
            "justify_content": null,
            "justify_items": null,
            "left": null,
            "margin": null,
            "max_height": null,
            "max_width": null,
            "min_height": null,
            "min_width": null,
            "object_fit": null,
            "object_position": null,
            "order": null,
            "overflow": null,
            "overflow_x": null,
            "overflow_y": null,
            "padding": null,
            "right": null,
            "top": null,
            "visibility": null,
            "width": null
          }
        },
        "944fc0c40bf44115bc6f67464d3bb5f6": {
          "model_module": "@jupyter-widgets/controls",
          "model_module_version": "1.5.0",
          "model_name": "DescriptionStyleModel",
          "state": {
            "_model_module": "@jupyter-widgets/controls",
            "_model_module_version": "1.5.0",
            "_model_name": "DescriptionStyleModel",
            "_view_count": null,
            "_view_module": "@jupyter-widgets/base",
            "_view_module_version": "1.2.0",
            "_view_name": "StyleView",
            "description_width": ""
          }
        },
        "a045f78ccb35452caf308662b923553d": {
          "model_module": "@jupyter-widgets/controls",
          "model_module_version": "1.5.0",
          "model_name": "DescriptionStyleModel",
          "state": {
            "_model_module": "@jupyter-widgets/controls",
            "_model_module_version": "1.5.0",
            "_model_name": "DescriptionStyleModel",
            "_view_count": null,
            "_view_module": "@jupyter-widgets/base",
            "_view_module_version": "1.2.0",
            "_view_name": "StyleView",
            "description_width": ""
          }
        },
        "abcc33f2ebf849ed8a3f43d58c75dcfd": {
          "model_module": "@jupyter-widgets/base",
          "model_module_version": "1.2.0",
          "model_name": "LayoutModel",
          "state": {
            "_model_module": "@jupyter-widgets/base",
            "_model_module_version": "1.2.0",
            "_model_name": "LayoutModel",
            "_view_count": null,
            "_view_module": "@jupyter-widgets/base",
            "_view_module_version": "1.2.0",
            "_view_name": "LayoutView",
            "align_content": null,
            "align_items": null,
            "align_self": null,
            "border": null,
            "bottom": null,
            "display": null,
            "flex": null,
            "flex_flow": null,
            "grid_area": null,
            "grid_auto_columns": null,
            "grid_auto_flow": null,
            "grid_auto_rows": null,
            "grid_column": null,
            "grid_gap": null,
            "grid_row": null,
            "grid_template_areas": null,
            "grid_template_columns": null,
            "grid_template_rows": null,
            "height": null,
            "justify_content": null,
            "justify_items": null,
            "left": null,
            "margin": null,
            "max_height": null,
            "max_width": null,
            "min_height": null,
            "min_width": null,
            "object_fit": null,
            "object_position": null,
            "order": null,
            "overflow": null,
            "overflow_x": null,
            "overflow_y": null,
            "padding": null,
            "right": null,
            "top": null,
            "visibility": null,
            "width": null
          }
        },
        "bf45e418727849c8b44d631536f0367e": {
          "model_module": "@jupyter-widgets/controls",
          "model_module_version": "1.5.0",
          "model_name": "HTMLModel",
          "state": {
            "_dom_classes": [],
            "_model_module": "@jupyter-widgets/controls",
            "_model_module_version": "1.5.0",
            "_model_name": "HTMLModel",
            "_view_count": null,
            "_view_module": "@jupyter-widgets/controls",
            "_view_module_version": "1.5.0",
            "_view_name": "HTMLView",
            "description": "",
            "description_tooltip": null,
            "layout": "IPY_MODEL_1db4a613397344ff8560abd7a9eae419",
            "placeholder": "​",
            "style": "IPY_MODEL_a045f78ccb35452caf308662b923553d",
            "value": "100%"
          }
        },
        "ea56e94235624b4087153008d2846297": {
          "model_module": "@jupyter-widgets/controls",
          "model_module_version": "1.5.0",
          "model_name": "DescriptionStyleModel",
          "state": {
            "_model_module": "@jupyter-widgets/controls",
            "_model_module_version": "1.5.0",
            "_model_name": "DescriptionStyleModel",
            "_view_count": null,
            "_view_module": "@jupyter-widgets/base",
            "_view_module_version": "1.2.0",
            "_view_name": "StyleView",
            "description_width": ""
          }
        }
      }
    }
  },
  "nbformat": 4,
  "nbformat_minor": 0
}